{
 "cells": [
  {
   "cell_type": "code",
   "execution_count": 1,
   "id": "a85acde9-5d90-4ff1-b901-7d6a1465adc0",
   "metadata": {},
   "outputs": [
    {
     "name": "stdout",
     "output_type": "stream",
     "text": [
      "Welcome to\n",
      "      ____              __\n",
      "     / __/__  ___ _____/ /__\n",
      "    _\\ \\/ _ \\/ _ `/ __/  '_/\n",
      "   /___/ .__/\\_,_/_/ /_/\\_\\   version 3.5.4\n",
      "      /_/\n",
      "                        \n",
      "Using Scala version 2.12.18, OpenJDK 64-Bit Server VM, 11.0.26\n",
      "Branch HEAD\n",
      "Compiled by user yangjie01 on 2024-12-17T04:51:46Z\n",
      "Revision a6f220d951742f4074b37772485ee0ec7a774e7d\n",
      "Url https://github.com/apache/spark\n",
      "Type --help for more information.\n"
     ]
    },
    {
     "name": "stderr",
     "output_type": "stream",
     "text": [
      "Setting default log level to \"WARN\".\n",
      "To adjust logging level use sc.setLogLevel(newLevel). For SparkR, use setLogLevel(newLevel).\n",
      "25/03/09 23:04:43 WARN NativeCodeLoader: Unable to load native-hadoop library for your platform... using builtin-java classes where applicable\n"
     ]
    },
    {
     "name": "stdout",
     "output_type": "stream",
     "text": [
      "The PySpark 3.5.4 version is running...\n"
     ]
    }
   ],
   "source": [
    "import pyspark\n",
    "from pyspark.sql import SparkSession\n",
    "\n",
    "!spark-shell --version\n",
    "\n",
    "# Create SparkSession\n",
    "spark = SparkSession.builder.master(\"local[1]\") \\\n",
    "                    .appName('test-spark') \\\n",
    "                    .getOrCreate()\n",
    "\n",
    "print(f'The PySpark {spark.version} version is running...')"
   ]
  },
  {
   "cell_type": "code",
   "execution_count": 2,
   "id": "3f39eaa3-e119-41f3-a9c5-ad9c1ad49b38",
   "metadata": {},
   "outputs": [
    {
     "name": "stdout",
     "output_type": "stream",
     "text": [
      "File downloaded successfully.\n"
     ]
    }
   ],
   "source": [
    "import urllib.request\n",
    "\n",
    "url = \"https://d37ci6vzurychx.cloudfront.net/trip-data/yellow_tripdata_2024-10.parquet\"\n",
    "file_name = \"yellow_tripdata_2024-10.parquet\"\n",
    "\n",
    "urllib.request.urlretrieve(url, file_name)\n",
    "\n",
    "print(\"File downloaded successfully.\")\n"
   ]
  },
  {
   "cell_type": "code",
   "execution_count": 3,
   "id": "762e82af-cf46-426a-adbd-6fa4d9554d45",
   "metadata": {},
   "outputs": [
    {
     "name": "stderr",
     "output_type": "stream",
     "text": [
      "25/03/10 23:38:50 WARN SparkSession: Using an existing Spark session; only runtime SQL configurations will take effect.\n"
     ]
    }
   ],
   "source": [
    "from pyspark.sql import SparkSession\n",
    "\n",
    "# Initialize Spark session\n",
    "spark = SparkSession.builder \\\n",
    "    .appName(\"Yellow Trip Data\") \\\n",
    "    .getOrCreate()"
   ]
  },
  {
   "cell_type": "code",
   "execution_count": 4,
   "id": "c2946314-cf83-4a6d-b94f-e5b96faa5ff1",
   "metadata": {},
   "outputs": [
    {
     "name": "stderr",
     "output_type": "stream",
     "text": [
      "                                                                                "
     ]
    }
   ],
   "source": [
    "# Load the Parquet file into a DataFrame\n",
    "df = spark.read.parquet(\"yellow_tripdata_2024-10.parquet\")\n",
    "# Repartition the DataFrame into 4 partitions\n",
    "df_repartitioned = df.repartition(4)\n",
    "# Save the DataFrame to Parquet\n",
    "df_repartitioned.write.parquet(\"yellow_tripdata_repartitioned.parquet\")\n"
   ]
  },
  {
   "cell_type": "code",
   "execution_count": 9,
   "id": "a4657f6b-303c-45db-847b-7d6137f28918",
   "metadata": {},
   "outputs": [
    {
     "name": "stdout",
     "output_type": "stream",
     "text": [
      "Average size of Parquet files: 23.79 MB\n"
     ]
    }
   ],
   "source": [
    "import os\n",
    "\n",
    "# Define the path where your Parquet files are saved\n",
    "parquet_dir = \"yellow_tripdata_repartitioned.parquet\"\n",
    "\n",
    "# List all files in the directory, excluding auxiliary files (crc and _SUCCESS)\n",
    "files = [f for f in os.listdir(parquet_dir) \n",
    "         if os.path.isfile(os.path.join(parquet_dir, f)) and f.endswith('.parquet')]\n",
    "\n",
    "# Check if any Parquet files were found\n",
    "if not files:\n",
    "    print(\"No Parquet files found in the directory.\")\n",
    "else:\n",
    "    # Get the total size of all Parquet files in the directory\n",
    "    folder_size = sum(os.path.getsize(os.path.join(parquet_dir, f)) for f in files)\n",
    "    \n",
    "    # Convert size to MB\n",
    "    folder_size_mb = folder_size / (1024 * 1024)\n",
    "    \n",
    "    # Calculate the average file size\n",
    "    average_file_size_mb = folder_size_mb / len(files)\n",
    "    \n",
    "    print(f\"Average size of Parquet files: {average_file_size_mb:.2f} MB\")"
   ]
  },
  {
   "cell_type": "code",
   "execution_count": 11,
   "id": "baa731d4-7702-4d0b-ac0d-589207a407a2",
   "metadata": {},
   "outputs": [
    {
     "name": "stdout",
     "output_type": "stream",
     "text": [
      "root\n",
      " |-- VendorID: integer (nullable = true)\n",
      " |-- tpep_pickup_datetime: timestamp_ntz (nullable = true)\n",
      " |-- tpep_dropoff_datetime: timestamp_ntz (nullable = true)\n",
      " |-- passenger_count: long (nullable = true)\n",
      " |-- trip_distance: double (nullable = true)\n",
      " |-- RatecodeID: long (nullable = true)\n",
      " |-- store_and_fwd_flag: string (nullable = true)\n",
      " |-- PULocationID: integer (nullable = true)\n",
      " |-- DOLocationID: integer (nullable = true)\n",
      " |-- payment_type: long (nullable = true)\n",
      " |-- fare_amount: double (nullable = true)\n",
      " |-- extra: double (nullable = true)\n",
      " |-- mta_tax: double (nullable = true)\n",
      " |-- tip_amount: double (nullable = true)\n",
      " |-- tolls_amount: double (nullable = true)\n",
      " |-- improvement_surcharge: double (nullable = true)\n",
      " |-- total_amount: double (nullable = true)\n",
      " |-- congestion_surcharge: double (nullable = true)\n",
      " |-- Airport_fee: double (nullable = true)\n",
      "\n"
     ]
    }
   ],
   "source": [
    "df.printSchema()"
   ]
  },
  {
   "cell_type": "code",
   "execution_count": 17,
   "id": "0e5b42d2-cd69-4214-aa35-d40a1a6ab4ca",
   "metadata": {},
   "outputs": [
    {
     "name": "stdout",
     "output_type": "stream",
     "text": [
      "Number of taxi trips on the 15th of October: 128893\n"
     ]
    }
   ],
   "source": [
    "from pyspark.sql.functions import col, to_date\n",
    "df = spark.read.parquet(\"yellow_tripdata_2024-10.parquet\")\n",
    "df = df.withColumn(\"pickup_date\", to_date(col(\"tpep_pickup_datetime\")))\n",
    "\n",
    "oct_15th_trips = df.filter(col(\"pickup_date\") == \"2024-10-15\")\n",
    "\n",
    "num_trips_oct_15 = oct_15th_trips.count()\n",
    "\n",
    "print(f\"Number of taxi trips on the 15th of October: {num_trips_oct_15}\")"
   ]
  },
  {
   "cell_type": "code",
   "execution_count": 18,
   "id": "224fa921-7d88-4f17-b98b-6f4f0c5f33dd",
   "metadata": {},
   "outputs": [
    {
     "name": "stdout",
     "output_type": "stream",
     "text": [
      "The longest trip duration is 162.62 hours.\n"
     ]
    }
   ],
   "source": [
    "from pyspark.sql.functions import col, unix_timestamp\n",
    "df = spark.read.parquet(\"yellow_tripdata_2024-10.parquet\")\n",
    "df = df.withColumn(\"trip_duration_seconds\", \n",
    "                  unix_timestamp(\"tpep_dropoff_datetime\") - unix_timestamp(\"tpep_pickup_datetime\"))\n",
    "\n",
    "df = df.withColumn(\"trip_duration_hours\", col(\"trip_duration_seconds\") / 3600)\n",
    "\n",
    "longest_trip_duration = df.agg({\"trip_duration_hours\": \"max\"}).collect()[0][0]\n",
    "\n",
    "print(f\"The longest trip duration is {longest_trip_duration:.2f} hours.\")\n"
   ]
  },
  {
   "cell_type": "code",
   "execution_count": 20,
   "id": "0de3cadf-96df-42a9-90d7-9e1e800a6c60",
   "metadata": {},
   "outputs": [
    {
     "name": "stdout",
     "output_type": "stream",
     "text": [
      "File downloaded succedd\n"
     ]
    }
   ],
   "source": [
    "url = \"https://d37ci6vzurychx.cloudfront.net/misc/taxi_zone_lookup.csv\"\n",
    "zone_lookup_file = \"taxi_zone_lookup.csv\"\n",
    "\n",
    "urllib.request.urlretrieve(url, zone_lookup_file)\n",
    "\n",
    "print(\"File downloaded succedd\")"
   ]
  },
  {
   "cell_type": "code",
   "execution_count": 21,
   "id": "4d64960a-5e1f-49ba-9f74-d3616ff6b25a",
   "metadata": {},
   "outputs": [
    {
     "name": "stdout",
     "output_type": "stream",
     "text": [
      "root\n",
      " |-- VendorID: integer (nullable = true)\n",
      " |-- tpep_pickup_datetime: timestamp_ntz (nullable = true)\n",
      " |-- tpep_dropoff_datetime: timestamp_ntz (nullable = true)\n",
      " |-- passenger_count: long (nullable = true)\n",
      " |-- trip_distance: double (nullable = true)\n",
      " |-- RatecodeID: long (nullable = true)\n",
      " |-- store_and_fwd_flag: string (nullable = true)\n",
      " |-- PULocationID: integer (nullable = true)\n",
      " |-- DOLocationID: integer (nullable = true)\n",
      " |-- payment_type: long (nullable = true)\n",
      " |-- fare_amount: double (nullable = true)\n",
      " |-- extra: double (nullable = true)\n",
      " |-- mta_tax: double (nullable = true)\n",
      " |-- tip_amount: double (nullable = true)\n",
      " |-- tolls_amount: double (nullable = true)\n",
      " |-- improvement_surcharge: double (nullable = true)\n",
      " |-- total_amount: double (nullable = true)\n",
      " |-- congestion_surcharge: double (nullable = true)\n",
      " |-- Airport_fee: double (nullable = true)\n",
      "\n",
      "root\n",
      " |-- LocationID: string (nullable = true)\n",
      " |-- Borough: string (nullable = true)\n",
      " |-- Zone: string (nullable = true)\n",
      " |-- service_zone: string (nullable = true)\n",
      "\n"
     ]
    }
   ],
   "source": [
    "# Load the Yellow Trip Data (Parquet)\n",
    "yellow_trip_df = spark.read.parquet(\"yellow_tripdata_2024-10.parquet\")\n",
    "\n",
    "# Register Yellow Trip Data as a temp view\n",
    "yellow_trip_df.createOrReplaceTempView(\"yellow_trip_data\")\n",
    "\n",
    "\n",
    "zone_lookup_df = spark.read.option(\"header\", \"true\").csv(zone_lookup_file)\n",
    "zone_lookup_df.createOrReplaceTempView(\"zone_lookup\")\n",
    "\n",
    "\n",
    "yellow_trip_df.printSchema()\n",
    "zone_lookup_df.printSchema()\n"
   ]
  },
  {
   "cell_type": "code",
   "execution_count": 22,
   "id": "89508a27-8e3a-4543-b008-d972bc8c4292",
   "metadata": {},
   "outputs": [
    {
     "name": "stdout",
     "output_type": "stream",
     "text": [
      "+--------------------+------------+\n",
      "|         pickup_zone|pickup_count|\n",
      "+--------------------+------------+\n",
      "|Governor's Island...|           1|\n",
      "+--------------------+------------+\n",
      "\n"
     ]
    },
    {
     "name": "stderr",
     "output_type": "stream",
     "text": [
      "                                                                                "
     ]
    }
   ],
   "source": [
    "from pyspark.sql.functions import col\n",
    "\n",
    "joined_df = spark.sql(\"\"\"\n",
    "    SELECT \n",
    "        z.Zone AS pickup_zone, \n",
    "        COUNT(*) AS pickup_count\n",
    "    FROM \n",
    "        yellow_trip_data y\n",
    "    JOIN \n",
    "        zone_lookup z\n",
    "    ON \n",
    "        y.PULocationID = z.LocationID\n",
    "    GROUP BY \n",
    "        z.Zone\n",
    "    ORDER BY \n",
    "        pickup_count ASC\n",
    "    LIMIT 1\n",
    "\"\"\")\n",
    "\n",
    "joined_df.show()"
   ]
  },
  {
   "cell_type": "code",
   "execution_count": null,
   "id": "4910b748-5c71-433f-adc4-437e44aa6ae5",
   "metadata": {},
   "outputs": [],
   "source": []
  }
 ],
 "metadata": {
  "kernelspec": {
   "display_name": "Python 3 (ipykernel)",
   "language": "python",
   "name": "python3"
  },
  "language_info": {
   "codemirror_mode": {
    "name": "ipython",
    "version": 3
   },
   "file_extension": ".py",
   "mimetype": "text/x-python",
   "name": "python",
   "nbconvert_exporter": "python",
   "pygments_lexer": "ipython3",
   "version": "3.9.21"
  }
 },
 "nbformat": 4,
 "nbformat_minor": 5
}
